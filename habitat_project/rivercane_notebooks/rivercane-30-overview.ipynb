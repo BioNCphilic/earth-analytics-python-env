{
 "cells": [
  {
   "cell_type": "markdown",
   "metadata": {},
   "source": []
  },
  {
   "cell_type": "markdown",
   "metadata": {},
   "source": [
    "<!-- Define your study area\n",
    "\n",
    "Fit a model: \n",
    "\n",
    "Download model variables as raster layers covering your study area envelope:\n",
    "\n",
    "Calculate at least one derived topographic variable (slope or aspect)\n",
    "\n",
    "Harmonize your data - make sure that the grids for each of your layers match up. \n",
    "\n",
    "Build your model\n",
    "\n",
    "Present your results in at least one figure for each grassland/climate scenario combination.  -->"
   ]
  }
 ],
 "metadata": {
  "kernelspec": {
   "display_name": "earth-analytics-python",
   "language": "python",
   "name": "python3"
  },
  "language_info": {
   "name": "python",
   "version": "3.11.10"
  }
 },
 "nbformat": 4,
 "nbformat_minor": 2
}
